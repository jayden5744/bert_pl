{
 "cells": [
  {
   "cell_type": "code",
   "execution_count": 1,
   "metadata": {},
   "outputs": [],
   "source": [
    "import os\n",
    "from glob import glob"
   ]
  },
  {
   "cell_type": "code",
   "execution_count": 2,
   "metadata": {},
   "outputs": [],
   "source": [
    "raw_path = \"data/raw/\"\n",
    "save_path = \"data/pretrain/\""
   ]
  },
  {
   "cell_type": "code",
   "execution_count": 4,
   "metadata": {},
   "outputs": [
    {
     "name": "stdout",
     "output_type": "stream",
     "text": [
      "['data/raw/books_large_p1.txt', 'data/raw/books_large_p2.txt']\n",
      "74004228\n",
      "['the half-ling book one in the fall of igneeria series kaylee soderburg copyright 2013 kaylee soderburg all rights reserved .', 'isbn : 1492913731 isbn-13 : 978-1492913733 for my family , who encouraged me to never stop fighting for my dreams chapter 1 summer vacations supposed to be fun , right ?', 'i wish i had a better answer to that question .', 'starlings , new york is not the place youd expect much to happen .', 'its a small quiet town , the kind where everyone knows your name .']\n"
     ]
    }
   ],
   "source": [
    "files = glob(os.path.join(raw_path, \"*.txt\"))\n",
    "files.sort()\n",
    "print(files)\n",
    "\n",
    "data = []\n",
    "\n",
    "for file in files:\n",
    "    with open(file) as f:\n",
    "        for line in f.readlines():\n",
    "            data.append(line.strip())\n",
    "\n",
    "print(len(data))\n",
    "print(data[:5])"
   ]
  },
  {
   "cell_type": "code",
   "execution_count": 5,
   "metadata": {},
   "outputs": [
    {
     "name": "stdout",
     "output_type": "stream",
     "text": [
      "66603805\n",
      "3700212\n",
      "3700211\n"
     ]
    }
   ],
   "source": [
    "# (train):(valid+test) = 0.9:0.1\n",
    "# valid:test =  1:1\n",
    "length = len(data)\n",
    "train = data[:int(length * 0.9)]\n",
    "valid = data[int(length * 0.9):-int(length * 0.1 * 0.5)]\n",
    "test = data[-int(length * 0.1 * 0.5):]\n",
    "\n",
    "print(len(train))\n",
    "print(len(valid))\n",
    "print(len(test))"
   ]
  },
  {
   "cell_type": "code",
   "execution_count": 6,
   "metadata": {},
   "outputs": [],
   "source": [
    "with open(os.path.join(save_path, \"train.txt\"), \"w\") as f:\n",
    "    for data in train:\n",
    "        f.write(data + \"\\n\")\n",
    "\n",
    "with open(os.path.join(save_path, \"valid.txt\"), \"w\") as f:\n",
    "    for data in valid:\n",
    "        f.write(data + \"\\n\")\n",
    "\n",
    "with open(os.path.join(save_path, \"test.txt\"), \"w\") as f:\n",
    "    for data in test:\n",
    "        f.write(data + \"\\n\")"
   ]
  },
  {
   "cell_type": "code",
   "execution_count": null,
   "metadata": {},
   "outputs": [],
   "source": [
    "import torch\n",
    "import torch.nn as nn\n",
    "\n",
    "loss = nn.NLLLoss()\n",
    "input_tensor = torch.randn(32, 2, requires_grad=True)\n",
    "\n",
    "target = torch.randn(32)"
   ]
  }
 ],
 "metadata": {
  "kernelspec": {
   "display_name": "Python 3.8.15 ('study')",
   "language": "python",
   "name": "python3"
  },
  "language_info": {
   "codemirror_mode": {
    "name": "ipython",
    "version": 3
   },
   "file_extension": ".py",
   "mimetype": "text/x-python",
   "name": "python",
   "nbconvert_exporter": "python",
   "pygments_lexer": "ipython3",
   "version": "3.8.15"
  },
  "orig_nbformat": 4,
  "vscode": {
   "interpreter": {
    "hash": "5505d05ceda49dc504182582297c3c948daaaa09c5b6c6e672bebc3df7629cc5"
   }
  }
 },
 "nbformat": 4,
 "nbformat_minor": 2
}
